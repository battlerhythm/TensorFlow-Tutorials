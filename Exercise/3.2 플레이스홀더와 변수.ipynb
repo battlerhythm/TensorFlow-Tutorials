{
 "cells": [
  {
   "cell_type": "code",
   "execution_count": 3,
   "metadata": {},
   "outputs": [
    {
     "name": "stdout",
     "output_type": "stream",
     "text": [
      "Tensor(\"Placeholder_1:0\", shape=(?, 3), dtype=float32)\n"
     ]
    }
   ],
   "source": [
    "import tensorflow as tf\n",
    "\n",
    "# None은 크기가 정해지지 않았음을 의미합니다.\n",
    "X = tf.placeholder(tf.float32, [None, 3])\n",
    "print(X)"
   ]
  },
  {
   "cell_type": "code",
   "execution_count": 4,
   "metadata": {},
   "outputs": [],
   "source": [
    "# 앞에서 텐서 모양을 (?, 3)으로 정의했으므로, 두번째 차원은 요소를 3개씩 가지고 있어야 합니다.\n",
    "x_data = [[1, 2, 3], [4, 5, 6]]"
   ]
  },
  {
   "cell_type": "code",
   "execution_count": 5,
   "metadata": {},
   "outputs": [],
   "source": [
    "# 정규분포(Normal Distribution)의 무작위값으로 초기화\n",
    "W = tf.Variable(tf.random_normal([3, 2]))\n",
    "b = tf.Variable(tf.random_normal([2, 1]))\n",
    "\n",
    "# 원하는 값으로 초기화\n",
    "# W = tf.Variable([0.1, 0.1], [0.2, 0.2], [0.3, 0.3]) "
   ]
  },
  {
   "cell_type": "code",
   "execution_count": 6,
   "metadata": {},
   "outputs": [],
   "source": [
    "# X와 W가 행렬이기 때문에 tf.matmul 함수를 사용합니다.\n",
    "# 행렬이 아닐경우 단순히 곱셈 연산자(*)나 tf.mul함수를 사용하면 됩니다.\n",
    "expr = tf.matmul(X, W) + b"
   ]
  },
  {
   "cell_type": "code",
   "execution_count": 8,
   "metadata": {},
   "outputs": [
    {
     "name": "stdout",
     "output_type": "stream",
     "text": [
      "=== x_data ===\n",
      "[[1, 2, 3], [4, 5, 6]]\n",
      "=== W ===\n",
      "[[-2.212111   -0.45337588]\n",
      " [-0.15575363  0.53455645]\n",
      " [-1.3505491  -0.91799939]]\n",
      "=== b ===\n",
      "[[ 0.77819949]\n",
      " [-0.33516476]]\n",
      "=== expr ===\n",
      "[[ -5.79706573  -1.36006188]\n",
      " [-18.06567192  -4.98388243]]\n"
     ]
    }
   ],
   "source": [
    "sess = tf.Session()\n",
    "\n",
    "# 앞에서 정의한 변수들을 초기화하는 함수입니다.\n",
    "# 기존에 학습한 값들을 가져와서 사용하는 것이 아닌 처음 실행하는 것이라면,\n",
    "# 연산을 실행하기 전에 반드시 이 함수를 이용해 변수들을 초기화해햐 합니다.\n",
    "sess.run(tf.global_variables_initializer())\n",
    "\n",
    "print(\"=== x_data ===\")\n",
    "print(x_data)\n",
    "print(\"=== W ===\")\n",
    "print(sess.run(W))\n",
    "print(\"=== b ===\")\n",
    "print(sess.run(b))\n",
    "print(\"=== expr ===\")\n",
    "\n",
    "# feed_dict 매개변수는 그래프를 실행할 때 사용할 입력값을 지정합니다.\n",
    "# expr 수식에는 X, W, b를 사용했는데, 이중 X가 플레이스홀더라\n",
    "# X에 값을 넣어주지 않으면 계산에 사용할 값이 없으므로 에러가 납니다.\n",
    "# 따라서 미리 정의 해둔 x_data를 X의 값으로 넣어주었습니다.\n",
    "print(sess.run(expr, feed_dict={X: x_data}))\n",
    "\n",
    "sess.close()"
   ]
  },
  {
   "cell_type": "code",
   "execution_count": null,
   "metadata": {},
   "outputs": [],
   "source": []
  }
 ],
 "metadata": {
  "kernelspec": {
   "display_name": "Python 3",
   "language": "python",
   "name": "python3"
  },
  "language_info": {
   "codemirror_mode": {
    "name": "ipython",
    "version": 3
   },
   "file_extension": ".py",
   "mimetype": "text/x-python",
   "name": "python",
   "nbconvert_exporter": "python",
   "pygments_lexer": "ipython3",
   "version": "3.6.2"
  }
 },
 "nbformat": 4,
 "nbformat_minor": 2
}
