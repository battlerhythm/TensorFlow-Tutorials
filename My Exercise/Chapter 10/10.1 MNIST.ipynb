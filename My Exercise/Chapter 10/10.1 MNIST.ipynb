{
 "cells": [
  {
   "cell_type": "code",
   "execution_count": 1,
   "metadata": {},
   "outputs": [
    {
     "name": "stderr",
     "output_type": "stream",
     "text": [
      "/usr/local/Cellar/python3/3.6.4/Frameworks/Python.framework/Versions/3.6/lib/python3.6/importlib/_bootstrap.py:219: RuntimeWarning: compiletime version 3.5 of module 'tensorflow.python.framework.fast_tensor_util' does not match runtime version 3.6\n",
      "  return f(*args, **kwds)\n"
     ]
    },
    {
     "name": "stdout",
     "output_type": "stream",
     "text": [
      "Extracting ./mnist/data/train-images-idx3-ubyte.gz\n",
      "Extracting ./mnist/data/train-labels-idx1-ubyte.gz\n",
      "Extracting ./mnist/data/t10k-images-idx3-ubyte.gz\n",
      "Extracting ./mnist/data/t10k-labels-idx1-ubyte.gz\n"
     ]
    }
   ],
   "source": [
    "import tensorflow as tf\n",
    "\n",
    "from tensorflow.examples.tutorials.mnist import input_data\n",
    "mnist = input_data.read_data_sets(\"./mnist/data/\", one_hot=True)\n",
    "\n",
    "learning_rate = 0.001\n",
    "total_epoch = 30\n",
    "batch_size = 128\n",
    "\n",
    "# 사람은 글씨를 위에서 아래로 내려가면서 쓰는 경향이 많으니 데이터를\n",
    "# 윗 첫 줄(픽셀) 을 첫 단계 입력값으로 삼고, 28번째 줄(픽셀)을 28단계 입력값으로 받습니다.\n",
    "n_input =28\n",
    "n_step = 28\n",
    "n_hidden = 128\n",
    "n_class = 10\n",
    "\n",
    "\n",
    "# 기존 모델과 다른 점은 입력값 X에 n_step이라는 차원을 하나 추가한 부분입니다.\n",
    "# RNN은 순서가 있는 데이터를 다루므로 한 번에 입력 받을 개수와 총 몇 단계로 이뤄진 데이터를 받을지를 설정해야 합니다.\n",
    "# 이를 위해 가로 픽셀 수를 n_input으로, 세로 픽셀 수를 입력 단계인 n_step으로 설정하였습니다.\n",
    "# 출력값은 MNIST의 분류인 0~9까지 10개의 숫자를 원-핫 인코딩으로 표현하도록 만들었습니다.\n",
    "X = tf.placeholder(tf.float32, [None, n_step, n_input])\n",
    "Y = tf.placeholder(tf.float32, [None, n_class])\n",
    "\n",
    "W = tf.Variable(tf.random_normal([n_hidden, n_class]))\n",
    "b = tf.Variable(tf.random_normal([n_class]))\n",
    "\n",
    "# RNN의 기본 신경망은 긴 단계의 데이터를 학습할 때 맨 뒤에서는 맨 앞의 정보를 잘 기억하지 못하는 특성이 있습니다.\n",
    "# 이를 보완하기 위해 다양한 구조가 만들어 졌고, 그중 가장 많이 사용되는 것이 LSTM이라는 신경망입니다.\n",
    "# GRU는 LSTM과 비슷하지만, 구조가 조금 더 간단한 신경망 아키텍처입니다.\n",
    "cell = tf.nn.rnn_cell.BasicRNNCell(n_hidden)\n",
    "\n",
    "# dynamic_rnn함수를 이용해 RNN 신경망을 완성합니다.\n",
    "outputs, states = tf.nn.dynamic_rnn(cell, X, dtype=tf.float32)\n",
    "\n",
    "# 원래는 다음과 같이 주어진 단계를 반복하는 과정을 거쳐야 합니다.\n",
    "# 한 단계를 학습한 뒤 상태를 저장하고, 그 상태를 다음 단계의 입력 상태로 하여 다시 학습합니다.\n",
    "# 이렇게 주어진 단계만큼 반복하여 상태를 전파하면서 출력값을 만들어가는 것이 RNN의 기본구조입니다.\n",
    "#states = tf.zeros(batch_size)\n",
    "#for i in range(n_step):\n",
    "#    outputs, states = cell(X:[[:, i]], states)\n",
    "#...\n",
    "\n",
    "# outputs : [batch_size, n_step, n_hidden]\n",
    "# -> [n_step, batch_size, n_hidden]\n",
    "outputs = tf.transpose(outputs, [1, 0, 2])\n",
    "# -> [batch_size, n_hidden]\n",
    "outputs = outputs[-1]\n",
    "\n",
    "model = tf.matmul(outputs, W) + b\n",
    "\n",
    "cost = tf.reduce_mean(tf.nn.softmax_cross_entropy_with_logits(logits=model, labels=Y))\n",
    "optimizer = tf.train.AdamOptimizer(learning_rate).minimize(cost)"
   ]
  },
  {
   "cell_type": "code",
   "execution_count": 2,
   "metadata": {},
   "outputs": [
    {
     "name": "stdout",
     "output_type": "stream",
     "text": [
      "Epoch: 0001 Avg. cost = 0.536\n",
      "Epoch: 0002 Avg. cost = 0.259\n",
      "Epoch: 0003 Avg. cost = 0.192\n",
      "Epoch: 0004 Avg. cost = 0.162\n",
      "Epoch: 0005 Avg. cost = 0.139\n",
      "Epoch: 0006 Avg. cost = 0.122\n",
      "Epoch: 0007 Avg. cost = 0.125\n",
      "Epoch: 0008 Avg. cost = 0.117\n",
      "Epoch: 0009 Avg. cost = 0.108\n",
      "Epoch: 0010 Avg. cost = 0.099\n",
      "Epoch: 0011 Avg. cost = 0.102\n",
      "Epoch: 0012 Avg. cost = 0.100\n",
      "Epoch: 0013 Avg. cost = 0.090\n",
      "Epoch: 0014 Avg. cost = 0.086\n",
      "Epoch: 0015 Avg. cost = 0.089\n",
      "Epoch: 0016 Avg. cost = 0.085\n",
      "Epoch: 0017 Avg. cost = 0.082\n",
      "Epoch: 0018 Avg. cost = 0.076\n",
      "Epoch: 0019 Avg. cost = 0.079\n",
      "Epoch: 0020 Avg. cost = 0.073\n",
      "Epoch: 0021 Avg. cost = 0.075\n",
      "Epoch: 0022 Avg. cost = 0.072\n",
      "Epoch: 0023 Avg. cost = 0.074\n",
      "Epoch: 0024 Avg. cost = 0.072\n",
      "Epoch: 0025 Avg. cost = 0.065\n",
      "Epoch: 0026 Avg. cost = 0.065\n",
      "Epoch: 0027 Avg. cost = 0.063\n",
      "Epoch: 0028 Avg. cost = 0.061\n",
      "Epoch: 0029 Avg. cost = 0.064\n",
      "Epoch: 0030 Avg. cost = 0.069\n",
      "최적화 완료!\n",
      "정확도: 0.9732\n"
     ]
    }
   ],
   "source": [
    "init = tf.global_variables_initializer()\n",
    "sess = tf.Session()\n",
    "sess.run(init)\n",
    "\n",
    "total_batch = int(mnist.train.num_examples / batch_size)\n",
    "\n",
    "for epoch in range(total_epoch):\n",
    "    total_cost = 0\n",
    "    for i in range(total_batch):\n",
    "        \n",
    "        batch_xs, batch_ys = mnist.train.next_batch(batch_size)\n",
    "        batch_xs = batch_xs.reshape((batch_size, n_step, n_input))\n",
    "        \n",
    "        _, cost_val = sess.run([optimizer, cost], feed_dict={X: batch_xs, Y: batch_ys})\n",
    "        total_cost += cost_val\n",
    "        \n",
    "    print('Epoch:', '%04d' % (epoch + 1), 'Avg. cost =', '{:.3f}'.format(total_cost / total_batch))\n",
    "    \n",
    "print('최적화 완료!')\n",
    "\n",
    "is_correct = tf.equal(tf.argmax(model, 1), tf.argmax(Y, 1))\n",
    "accuracy = tf.reduce_mean(tf.cast(is_correct, tf.float32))\n",
    "\n",
    "test_batch_size = len(mnist.test.images)\n",
    "\n",
    "test_xs = mnist.test.images.reshape(test_batch_size, n_step, n_input)\n",
    "test_ys = mnist.test.labels\n",
    "\n",
    "print('정확도:', sess.run(accuracy, feed_dict={X: test_xs, Y: test_ys}))\n"
   ]
  },
  {
   "cell_type": "code",
   "execution_count": null,
   "metadata": {},
   "outputs": [],
   "source": []
  }
 ],
 "metadata": {
  "kernelspec": {
   "display_name": "Python 3",
   "language": "python",
   "name": "python3"
  },
  "language_info": {
   "codemirror_mode": {
    "name": "ipython",
    "version": 3
   },
   "file_extension": ".py",
   "mimetype": "text/x-python",
   "name": "python",
   "nbconvert_exporter": "python",
   "pygments_lexer": "ipython3",
   "version": "3.6.4"
  }
 },
 "nbformat": 4,
 "nbformat_minor": 2
}
